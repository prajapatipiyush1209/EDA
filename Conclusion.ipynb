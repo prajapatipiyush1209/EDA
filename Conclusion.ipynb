{
 "cells": [
  {
   "cell_type": "markdown",
   "id": "b5de9d07",
   "metadata": {},
   "source": [
    "# Conclusion"
   ]
  },
  {
   "cell_type": "markdown",
   "id": "fdcbecc9",
   "metadata": {},
   "source": [
    "- Most of the customers are taken the cash loan and likely 8% of the customer in these are defaulters.\n",
    "- Female customers are most who taken the loans and in these less likely defaulters comapre to the men.\n",
    "- Most of customer's income source are <b>Genral Working, Commercial associate, Pensioner</b> and target customers having low risk for defaulter is <b>Pensioner, State servent.</b>\n",
    "- Most of the customers education background is <b>Secondary, Higher Education</b> who are applying for the loan and low risk of defaulters to <b>Higher Educatinal</b> background customers.\n",
    "- <b>Married people, Single</b> People are most who taken the loan. In that <b>single, civil married customers are ~10% are defaulter.</b>\n",
    "- Whose housing type is <b>Rental and with parents</b> those type of customers are nearly <b>~12% defaulters.</b> \n",
    "- Most of the customer who are taken the loan are laborers,core staff, managers, drivers,sales staff, high skills tech staff and who are safe laborers,core staff, managers, and high skill tech staff.\n",
    "\n",
    "# Univariate numeric variables analysis\n",
    "\n",
    " - most of the loans were given for the goods price ranging between 0 to 1 ml\n",
    " - most of the loans were given for the credit amount of 0 to 1 ml\n",
    " - most of the customers are paying annuity of 0 to 50 K\n",
    " - mostly the customers have income between 0 to 1 ml\n",
    "\n",
    "# Bivariate analysis\n",
    "- AMT_CREDIT and AMT_GOODS_PRICE are linearly corelated, if the AMT_CREDIT increases the defaulters are decreasing\n",
    "- people having income less than or equals to 1 ml, are more like to take loans out of which who are taking loan of less than 1.5 million, coudl turn out to be defaulters. we can target income below 1 million and loan maount greater than 1.5 million\n",
    "- people having children 1 to less than 5 are safer to give the loan\n",
    "- People who can pay the annuity of 100K are more like to get the loan and that's upto less than 2ml (safer segment)\n",
    "\n",
    "# Analysis on merged data\n",
    " \n",
    "- for the repairing purpose customers had applied mostly prev. and the same puspose has most number of cancelations\n",
    "- most of the app. which were prev. either canceled or refused 80-90% of them are repayer in the current data\n",
    "- offers which were unused prev. now have maximum number of defaulters despite of having high income band customers\n",
    "\n",
    "\n",
    "\n",
    "# Bank should target the customers\n",
    "- having low income i.e. below 1 ml\n",
    "- working in Others, Business Entity Type 3, Self Employed  org. type\n",
    "- working as Accountants, Core staff, Managers and Laborers \n",
    "- having house/appartment and are married and having children not more than 5\n",
    "- Highly educated\n",
    "- preferably female\n",
    "- unacompanied people can be safer -  default rate is ~8.5%\n",
    "\n",
    "# Amount segment recommended \n",
    "- the credit amount should not be more than 1 ml\n",
    "- annuity can be made of 50K (depending on the eligibility)\n",
    "- income bracket could be below 1 ml\n",
    "- 80-90% of the customer who were prev. canceled/refused, are repayers. Bank can do the analysis and can consider to give loan to these segments\n",
    "\n",
    "# precautions\n",
    "- org. Transport type 3 should be avoided\n",
    "- Low-Skill Laboreres and drivers  should be avoided\n",
    "- offers prev. unused and high income customer should be avoided\n"
   ]
  },
  {
   "cell_type": "markdown",
   "id": "20b8663e",
   "metadata": {},
   "source": []
  }
 ],
 "metadata": {
  "kernelspec": {
   "display_name": "Python 3 (ipykernel)",
   "language": "python",
   "name": "python3"
  },
  "language_info": {
   "codemirror_mode": {
    "name": "ipython",
    "version": 3
   },
   "file_extension": ".py",
   "mimetype": "text/x-python",
   "name": "python",
   "nbconvert_exporter": "python",
   "pygments_lexer": "ipython3",
   "version": "3.9.12"
  }
 },
 "nbformat": 4,
 "nbformat_minor": 5
}
